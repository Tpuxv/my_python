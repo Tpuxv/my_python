{
 "cells": [
  {
   "cell_type": "markdown",
   "metadata": {
    "scrolled": true
   },
   "source": [
    "# Модуль shelve (из стандартного набора Python) "
   ]
  },
  {
   "cell_type": "markdown",
   "metadata": {},
   "source": [
    "Данный модуль позволяет организовать постоянное хранилище информации без прибегания к реляционным базам данных. Доступ к хранилищу shelve осуществляется с помощью ключей, как при работе с обычными словарями. Модуль shelve сериализует объект с помощью модуля pickle и записывает его в БД, создаваемую и управляемую с помощью dbm."
   ]
  },
  {
   "cell_type": "code",
   "execution_count": 57,
   "metadata": {},
   "outputs": [],
   "source": [
    "import shelve\n",
    "\n",
    "with shelve.open('test_shelf.db') as s:\n",
    "    s['key1']={\n",
    "        'int': 10,\n",
    "        'float': 9.5,\n",
    "        'string' : 'Sample data'} "
   ]
  },
  {
   "cell_type": "markdown",
   "metadata": {},
   "source": [
    "Проще всего использовать модуль shelve посредством класса Dbfilename\n",
    "Shelf. В свою очередь для сохранения данных этот класс использует интерфейс\n",
    "dbm. Класс DbfilenameShelf можно использовать либо непосредственно, либо путем вызова функции shelve. open ()."
   ]
  },
  {
   "cell_type": "code",
   "execution_count": 52,
   "metadata": {},
   "outputs": [
    {
     "name": "stdout",
     "output_type": "stream",
     "text": [
      "{'int': 10, 'float': 9.5, 'string': 'Sample data'}\n"
     ]
    }
   ],
   "source": [
    "import shelve\n",
    "\n",
    "with shelve.open('test_shelf.db') as s:\n",
    "    existing = s['key1']\n",
    "print(existing)\n"
   ]
  },
  {
   "cell_type": "markdown",
   "metadata": {},
   "source": [
    "Модуль dbm не поддерживает одновременную запись в одну и ту же базу данных несколькими приложениями одновременно, но поддерживает параллельные обращения к ней по чтению несколькими клиентами. Если клиент не будет изменять хранилище, откройте базу данных только для чтения, передав аргумент flag='r'."
   ]
  },
  {
   "cell_type": "code",
   "execution_count": 53,
   "metadata": {},
   "outputs": [
    {
     "name": "stdout",
     "output_type": "stream",
     "text": [
      "Existing: {'int': 10, 'float': 9.5, 'string': 'Sample data'}\n",
      "ERROR: The database is opened for reading only\n"
     ]
    }
   ],
   "source": [
    "import dbm\n",
    "import shelve\n",
    "\n",
    "with shelve.open('test_shelf.db', flag='r') as s:\n",
    "    print('Existing:', s['key1'])\n",
    "    try:\n",
    "        s['key1']= 'new value'\n",
    "    except dbm.error as err:\n",
    "        print('ERROR: {}'.format(err))"
   ]
  },
  {
   "cell_type": "markdown",
   "metadata": {},
   "source": [
    "Если программа попытается изменить базу данных, в то время как она открыта только для чтения, будет сгенерировано исключение.Тип исключения зависит от того, какой модуль базы данных был выбран модулем dbm при ее создании."
   ]
  },
  {
   "cell_type": "markdown",
   "metadata": {},
   "source": [
    "Кроме флага r(только для чтения), также существуют ещё три флага:\n",
    "\n",
    "c: файл открывается для чтения и записи (значение по умолчанию). Если файл не существует, то он создается.\n",
    "\n",
    "w: файл открывается для записи.\n",
    "\n",
    "n: файл открывается для записи Если файл не существует, то он создается. Если он существует, то он перезаписывается"
   ]
  },
  {
   "cell_type": "markdown",
   "metadata": {},
   "source": [
    "# Обратная запись"
   ]
  },
  {
   "cell_type": "markdown",
   "metadata": {},
   "source": [
    "По умолчанию хранилища, создаваемые модулем shelve, не отслеживают изменения, происходящие во временных объектах. Таким образом, если содержимое объекта, ранее сохраненного в хранилище, изменяется, хранилище необходимо обновить явно путем повторного сохранения в нем данного элемента."
   ]
  },
  {
   "cell_type": "code",
   "execution_count": 55,
   "metadata": {},
   "outputs": [
    {
     "name": "stdout",
     "output_type": "stream",
     "text": [
      "{'int': 10, 'float': 9.5, 'string': 'Sample data'}\n",
      "{'int': 10, 'float': 9.5, 'string': 'Sample data'}\n"
     ]
    }
   ],
   "source": [
    "import shelve\n",
    "\n",
    "with shelve.open('test_shelf.db') as s:\n",
    "    print(s['key1'])\n",
    "    s['key1']['new_value'] = 'this was not here before'\n",
    "    \n",
    "with shelve.open('test_shelf.db', writeback = True) as s:\n",
    "    print(s['key1'])"
   ]
  },
  {
   "cell_type": "markdown",
   "metadata": {},
   "source": [
    "В этом примере значение, соответствующее ключу ’ key1', не сохраняется повторно, в чем можно убедиться, повторно открыв хранилище."
   ]
  },
  {
   "cell_type": "markdown",
   "metadata": {},
   "source": [
    "Чтобы обеспечить автоматическое обновление хранилища при изменении объектов, временно существующих в памяти компьютера, его необходимо открыть c установленным флагом writeback. Установка этого флага приводит к тому, что хранилище будет запоминать в кеш-памяти все объекты, извлеченные из базы данных. При закрытии хранилища каждый объект, хранящийся в кеше, записывается в базу данных."
   ]
  },
  {
   "cell_type": "code",
   "execution_count": 56,
   "metadata": {},
   "outputs": [
    {
     "name": "stdout",
     "output_type": "stream",
     "text": [
      "Initial data: \n",
      "{'float': 9.5, 'int': 10, 'string': 'Sample data'}\n",
      "\n",
      "Modified: \n",
      "{'float': 9.5,\n",
      " 'int': 10,\n",
      " 'new_value': 'this was not here before',\n",
      " 'string': 'Sample data'}\n",
      "n\\Preserved:\n",
      "{'float': 9.5,\n",
      " 'int': 10,\n",
      " 'new_value': 'this was not here before',\n",
      " 'string': 'Sample data'}\n"
     ]
    }
   ],
   "source": [
    "import shelve\n",
    "import pprint\n",
    "with shelve.open('test_shelf.db', writeback=True) as s:\n",
    "    print('Initial data: ')\n",
    "    pprint.pprint(s['key1'])\n",
    "    \n",
    "    s['key1']['new_value']='this was not here before'\n",
    "    print('\\nModified: ')\n",
    "    pprint.pprint(s['key1'])\n",
    "with shelve.open('test_shelf.db', writeback=True) as s:\n",
    "    print('n\\Preserved:')\n",
    "    pprint.pprint(s['key1'])"
   ]
  },
  {
   "cell_type": "markdown",
   "metadata": {},
   "source": [
    "Несмотря на то что указанная мера позволяет снизить вероятность совершения ошибок программистом и может сделать организацию долговременного хранения объектов более прозрачной, использование режима обратной записи не всегда желательно. Создание кеша при открытии хранилища приводит к дополнительному расходованию памяти и приостанавливает выполнение приложения всякий раз, когда кешированный объект записывается в базу данных. В нее записываются все кешированные объекты, поскольку нет возможности явно указать, какие именно объекты претерпели изменения. Если приложение в основном читает, а не записывает данные, режим обратной записи может ухудшить его производительность."
   ]
  },
  {
   "cell_type": "markdown",
   "metadata": {},
   "source": [
    "# Получение записей из БД "
   ]
  },
  {
   "cell_type": "markdown",
   "metadata": {},
   "source": [
    "Также из БД можно получать информацию по ключам, значениям и целым кортежам. Для этого используются методы keys(), values() и items(). Для этого создадим БД"
   ]
  },
  {
   "cell_type": "code",
   "execution_count": 1,
   "metadata": {},
   "outputs": [
    {
     "name": "stdout",
     "output_type": "stream",
     "text": [
      "Great Britain\n",
      "Spain\n"
     ]
    }
   ],
   "source": [
    "import shelve\n",
    " \n",
    "FILENAME = \"states2\"\n",
    "with shelve.open(FILENAME) as states:\n",
    "    states[\"London\"] = \"Great Britain\"\n",
    "    states[\"Paris\"] = \"France\"\n",
    "    states[\"Berlin\"] = \"Germany\"\n",
    "    states[\"Madrid\"] = \"Spain\"\n",
    " \n",
    "with shelve.open(FILENAME) as states:\n",
    "    print(states[\"London\"])\n",
    "    print(states[\"Madrid\"])"
   ]
  },
  {
   "cell_type": "markdown",
   "metadata": {},
   "source": [
    "Метод keys() возвращает все ключи из файла, а метод values() - все значения:"
   ]
  },
  {
   "cell_type": "code",
   "execution_count": 2,
   "metadata": {},
   "outputs": [
    {
     "name": "stdout",
     "output_type": "stream",
     "text": [
      "London Paris Berlin Madrid \n",
      "Great Britain France Germany Spain "
     ]
    }
   ],
   "source": [
    "with shelve.open(FILENAME) as states:\n",
    " \n",
    "    for city in states.keys():\n",
    "        print(city, end=\" \")        # London Paris Berlin Madrid \n",
    "    print()\n",
    "    for country in states.values():\n",
    "        print(country, end=\" \")     # Great Britain France Germany Spain "
   ]
  },
  {
   "cell_type": "markdown",
   "metadata": {},
   "source": [
    "Еще один метод items() возвращает набор кортежей. Каждый кортеж содержит ключ и значение."
   ]
  },
  {
   "cell_type": "code",
   "execution_count": 3,
   "metadata": {},
   "outputs": [
    {
     "name": "stdout",
     "output_type": "stream",
     "text": [
      "('London', 'Great Britain')\n",
      "('Paris', 'France')\n",
      "('Berlin', 'Germany')\n",
      "('Madrid', 'Spain')\n"
     ]
    }
   ],
   "source": [
    "with shelve.open(FILENAME) as states:\n",
    " \n",
    "    for state in states.items():\n",
    "        print(state)"
   ]
  },
  {
   "cell_type": "markdown",
   "metadata": {},
   "source": [
    "# Домашнее задание"
   ]
  },
  {
   "cell_type": "markdown",
   "metadata": {},
   "source": [
    "Сделать несколько записей (кортежей) и вернуть их с помощью метода items()"
   ]
  }
 ],
 "metadata": {
  "kernelspec": {
   "display_name": "Python 3",
   "language": "python",
   "name": "python3"
  },
  "language_info": {
   "codemirror_mode": {
    "name": "ipython",
    "version": 3
   },
   "file_extension": ".py",
   "mimetype": "text/x-python",
   "name": "python",
   "nbconvert_exporter": "python",
   "pygments_lexer": "ipython3",
   "version": "3.8.3"
  }
 },
 "nbformat": 4,
 "nbformat_minor": 4
}
