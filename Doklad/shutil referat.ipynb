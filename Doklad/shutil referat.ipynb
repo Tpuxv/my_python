{
 "cells": [
  {
   "cell_type": "markdown",
   "metadata": {},
   "source": [
    "# Модуль shutil (из стандартного набора Python)"
   ]
  },
  {
   "cell_type": "markdown",
   "metadata": {},
   "source": [
    "Модуль shutil позволяет выполнять высокоуровневые файловые операции,\n",
    "такие как копирование и архивирование."
   ]
  },
  {
   "cell_type": "markdown",
   "metadata": {},
   "source": [
    "# Копирование файлов"
   ]
  },
  {
   "cell_type": "markdown",
   "metadata": {},
   "source": [
    "Функция copyfile() копирует содержимое источника в указанное место.\n",
    "\n",
    "В случае отсутствия разрешения на выполнение записи в файл назначения возбу-\n",
    "ждается исключение IOError."
   ]
  },
  {
   "cell_type": "code",
   "execution_count": 1,
   "metadata": {},
   "outputs": [
    {
     "name": "stdout",
     "output_type": "stream",
     "text": [
      "Before: ['shutil_copyfile.py', 'shutil_copyfile.py.copy']\n",
      "After: ['shutil_copyfile.py', 'shutil_copyfile.py.copy']\n"
     ]
    }
   ],
   "source": [
    "import glob\n",
    "import shutil\n",
    "\n",
    "print ('Before:', glob.glob('shutil_copyfile.*'))\n",
    "\n",
    "shutil.copyfile('shutil_copyfile.py','shutil_copyfile.py.copy')\n",
    "\n",
    "print ('After:', glob.glob('shutil_copyfile.*'))"
   ]
  },
  {
   "cell_type": "markdown",
   "metadata": {},
   "source": [
    "Поскольку функция copyfile () открывает входной файл для чтения, незави-\n",
    "симо от его типа, ее нельзя использовать для копирования специальных файлов\n",
    "(таких, как узлы устройств Unix) в новые специальные файлы."
   ]
  },
  {
   "cell_type": "markdown",
   "metadata": {},
   "source": [
    "Функция copy () интерпретирует имя выходного файла точно так же, как ин-\n",
    "струмент cp командной строки Unix. Если имя объекта назначения ссылается не на файл, а на каталог, то новый файл создается в этом каталоге c использованием\n",
    "базового имени исходного файла."
   ]
  },
  {
   "cell_type": "code",
   "execution_count": 3,
   "metadata": {},
   "outputs": [
    {
     "name": "stdout",
     "output_type": "stream",
     "text": [
      "Before: ['referat\\\\shutil_copyfile.py']\n",
      "After: ['referat\\\\shutil_copyfile.py']\n"
     ]
    }
   ],
   "source": [
    "import glob\n",
    "import os\n",
    "import shutil\n",
    "\n",
    "os.mkdir('testtt')\n",
    "print('Before:',glob.glob('referat/*'))\n",
    "\n",
    "shutil.copy('shutil_copyfile.py','referat')\n",
    "\n",
    "print('After:', glob.glob('referat/*'))"
   ]
  },
  {
   "cell_type": "markdown",
   "metadata": {},
   "source": [
    "Права доступа к файлу копируются вместе с его содержимым"
   ]
  },
  {
   "cell_type": "markdown",
   "metadata": {},
   "source": [
    "# Поиск файла"
   ]
  },
  {
   "cell_type": "markdown",
   "metadata": {},
   "source": [
    "Функция which () находит полный путь к файлу c указанным именем, просматривая пути поиска. Типичным способом применения этой функции является поиск файла исполняемой программы в соответствии c путями поиска, используемыми командной оболочкой, которые содержатся в переменной среды PATH."
   ]
  },
  {
   "cell_type": "code",
   "execution_count": 4,
   "metadata": {},
   "outputs": [
    {
     "name": "stdout",
     "output_type": "stream",
     "text": [
      "None\n"
     ]
    }
   ],
   "source": [
    "import shutil\n",
    "\n",
    "print(shutil.which('virtualenv'))"
   ]
  },
  {
   "cell_type": "markdown",
   "metadata": {},
   "source": [
    "Если функции which () не удается найти файл, соответствующий параметрам поиска, то она возвращает значение None."
   ]
  },
  {
   "cell_type": "markdown",
   "metadata": {},
   "source": [
    "# Архивы"
   ]
  },
  {
   "cell_type": "markdown",
   "metadata": {},
   "source": [
    "Стандартная библиотека Python включает многочисленные модули, такие как tarfile или zipfile, для работы c архивными файлами. В дополнение к ним модуль shutil предлагает несколько высокоуровневых функций, предназначенных для создания и распаковки архивов. Функция get_archive_formats () возвращает последовательность имен и описаний форматов, поддерживаемых данной системой."
   ]
  },
  {
   "cell_type": "code",
   "execution_count": 5,
   "metadata": {},
   "outputs": [
    {
     "name": "stdout",
     "output_type": "stream",
     "text": [
      "bztar: bzip2'ed tar-file\n",
      "gztar: gzip'ed tar-file\n",
      "tar  : uncompressed tar file\n",
      "xztar: xz'ed tar-file\n",
      "zip  : ZIP file\n"
     ]
    }
   ],
   "source": [
    "import shutil\n",
    "\n",
    "for format, description in shutil.get_archive_formats():\n",
    "    print('{:<5}: {}'.format(format,description))"
   ]
  },
  {
   "cell_type": "markdown",
   "metadata": {},
   "source": [
    "Для создания нового архивного файла можно использовать метод make_archive (), который обеспечивает рекурсивное архивирование всего каталога и его содержимого. По умолчанию используется текущий рабочий каталог, все файлы и каталоги которого оказываются на верхнем уровне архива. Это поведение можно изменить c помощью аргумента root_dir, позволяющего перейти к дру-\n",
    "гой относительной позиции в файловой системе, и аргумента base_dir, позволяющего указать каталог, в который должен быть добавлен новый архив."
   ]
  },
  {
   "cell_type": "code",
   "execution_count": 11,
   "metadata": {},
   "outputs": [
    {
     "name": "stdout",
     "output_type": "stream",
     "text": [
      "Creating Archive:\n",
      "changing into '..'\n",
      "Creating tar archive\n",
      "changing back to 'C:\\Users\\tpuxa\\Referat'\n",
      "\n",
      "Archive contetnts:\n",
      "referat\n",
      "referat/.ipynb_checkpoints\n",
      "referat/.ipynb_checkpoints/Doklad Shelve-checkpoint.ipynb\n",
      "referat/.ipynb_checkpoints/Sqlte3-checkpoint.ipynb\n",
      "referat/.ipynb_checkpoints/Untitled-checkpoint.ipynb\n",
      "referat/.ipynb_checkpoints/Untitled1-checkpoint.ipynb\n",
      "referat/.ipynb_checkpoints/shutil_copyfile-checkpoint.py\n",
      "referat/Doklad Shelve.ipynb\n",
      "referat/Sqlte3.ipynb\n",
      "referat/Untitled.ipynb\n",
      "referat/Untitled1.ipynb\n",
      "referat/example\n",
      "referat/example.tar.gz\n",
      "referat/file_to_change.txt\n",
      "referat/referat\n",
      "referat/referat/shutil_copyfile.py\n",
      "referat/shutil_copyfile.py\n",
      "referat/shutil_copyfile.py.copy\n",
      "referat/states2.bak\n",
      "referat/states2.dat\n",
      "referat/states2.dir\n",
      "referat/test_shelf.db.bak\n",
      "referat/test_shelf.db.dat\n",
      "referat/test_shelf.db.dir\n",
      "referat/untitled.txt\n"
     ]
    }
   ],
   "source": [
    "import logging\n",
    "import shutil\n",
    "import sys\n",
    "import tarfile\n",
    "\n",
    "logging.basicConfig(\n",
    "    format='%(message)s',\n",
    "    stream=sys.stdout,\n",
    "    level=logging.DEBUG,\n",
    ")\n",
    "logger=logging.getLogger('pymotw')\n",
    "\n",
    "print('Creating Archive:')\n",
    "shutil.make_archive(\n",
    "    'example','gztar',\n",
    "    root_dir='..',\n",
    "    base_dir='referat',\n",
    "    logger=logger,\n",
    ")\n",
    "\n",
    "print('\\nArchive contetnts:')\n",
    "with tarfile.open('example.tar.gz','r') as t:\n",
    "    for n in t.getnames():\n",
    "        print(n)"
   ]
  },
  {
   "cell_type": "markdown",
   "metadata": {},
   "source": [
    "В этом примере отправной точкой служит каталог, в котором находятся примеры для модуля shutil. Затем выполняется переход на один уровень вверх по иерархическому дереву файловой системы, и в tar-архив, сжатый c помощью про-\n",
    "граммы gzip, добавляется каталог referat. Модуль logging конфигурируется для отображения сообщений из функции make__archive (), информирующих пользователя о выполняемых действиях."
   ]
  },
  {
   "cell_type": "markdown",
   "metadata": {},
   "source": [
    "Модуль shutil поддерживает реестр форматов, которые могут быть распакованы на текущей платформе. Доступ к этому реестру обеспечивает функция get_unpack_formats()."
   ]
  },
  {
   "cell_type": "code",
   "execution_count": 14,
   "metadata": {},
   "outputs": [
    {
     "name": "stdout",
     "output_type": "stream",
     "text": [
      "bztar: bzip2'ed tar-file, names ending in ['.tar.bz2', '.tbz2']\n",
      "gztar: gzip'ed tar-file, names ending in ['.tar.gz', '.tgz']\n",
      "tar  : uncompressed tar file, names ending in ['.tar']\n",
      "xztar: xz'ed tar-file, names ending in ['.tar.xz', '.txz']\n",
      "zip  : ZIP file, names ending in ['.zip']\n"
     ]
    }
   ],
   "source": [
    "import shutil\n",
    "\n",
    "for format, exts, description in shutil.get_unpack_formats():\n",
    "    print('{:<5}: {}, names ending in {}'.format(format, description, exts))"
   ]
  },
  {
   "cell_type": "markdown",
   "metadata": {},
   "source": [
    "Реестр, управляемый модулем shutil, отличается от реестра форматов, доступных для создания архивов, поскольку он включает также распространенные расширения имен файлов, используемые для каждого формата. На основании информации о расширении файла, содержащейся в этом реестре, функция, выполняющая распаковку архива, может делать предположения относительно того, какой формат следует использовать."
   ]
  },
  {
   "cell_type": "markdown",
   "metadata": {},
   "source": [
    "Для извлечения архива используйте функцию unpack_archive (), передав ей имя файла архива и необязательный параметр — каталог, в который следует извлечь архив. Если этот каталог не указан, используется текущий каталог."
   ]
  },
  {
   "cell_type": "code",
   "execution_count": 16,
   "metadata": {},
   "outputs": [
    {
     "name": "stdout",
     "output_type": "stream",
     "text": [
      "Unpacking archive:\n",
      "n\\Created:\n",
      "referat\n",
      "referat\\.ipynb_checkpoints\n",
      "referat\\Doklad Shelve.ipynb\n",
      "referat\\example\n",
      "referat\\example.tar.gz\n",
      "referat\\file_to_change.txt\n",
      "referat\\referat\n",
      "referat\\shutil_copyfile.py\n",
      "referat\\shutil_copyfile.py.copy\n",
      "referat\\Sqlte3.ipynb\n",
      "referat\\states2.bak\n",
      "referat\\states2.dat\n",
      "referat\\states2.dir\n",
      "referat\\test_shelf.db.bak\n",
      "referat\\test_shelf.db.dat\n",
      "referat\\test_shelf.db.dir\n",
      "referat\\Untitled.ipynb\n",
      "referat\\untitled.txt\n",
      "referat\\Untitled1.ipynb\n",
      "referat\\.ipynb_checkpoints\\Doklad Shelve-checkpoint.ipynb\n",
      "referat\\.ipynb_checkpoints\\shutil_copyfile-checkpoint.py\n",
      "referat\\.ipynb_checkpoints\\Sqlte3-checkpoint.ipynb\n",
      "referat\\.ipynb_checkpoints\\Untitled-checkpoint.ipynb\n",
      "referat\\.ipynb_checkpoints\\Untitled1-checkpoint.ipynb\n",
      "referat\\referat\\shutil_copyfile.py\n"
     ]
    }
   ],
   "source": [
    "import pathlib\n",
    "import shutil\n",
    "import sys\n",
    "import tempfile\n",
    "\n",
    "with tempfile.TemporaryDirectory() as d:\n",
    "    print('Unpacking archive:')\n",
    "    shutil.unpack_archive(\n",
    "        'example.tar.gz',\n",
    "        extract_dir=d,\n",
    "    )\n",
    "    \n",
    "    print('n\\Created:')\n",
    "    prefix_len=len(d) + 1\n",
    "    for extracted in pathlib.Path(d).rglob('*'):\n",
    "        print(str(extracted)[prefix_len:])"
   ]
  },
  {
   "cell_type": "markdown",
   "metadata": {},
   "source": [
    "В этом примере функция unpack_archive () может определить формат архива, поскольку имя файла заканчивается расширением . tar.gz, а c этим расшире-\n",
    "нием в реестре распаковываемых форматов связан формат .gztar."
   ]
  },
  {
   "cell_type": "markdown",
   "metadata": {},
   "source": [
    "# Размер файловой системы"
   ]
  },
  {
   "cell_type": "markdown",
   "metadata": {},
   "source": [
    "Нередко перед выполнением длительных операций, c которыми связан риск исчерпания дискового пространства, полезно определить размер файловой системы, чтобы выяснить, достаточно ли доступного места на диске. Функция disk_usage () возвращает кортеж, элементы которого представляют общий объем диска, занятый объем и остающийся объем (свободное дисковое пространство)."
   ]
  },
  {
   "cell_type": "markdown",
   "metadata": {},
   "source": [
    "# Задание"
   ]
  },
  {
   "cell_type": "markdown",
   "metadata": {},
   "source": [
    "Выяснить общий размер, свободное и занятое место на любом из своих дисков."
   ]
  }
 ],
 "metadata": {
  "kernelspec": {
   "display_name": "Python 3",
   "language": "python",
   "name": "python3"
  },
  "language_info": {
   "codemirror_mode": {
    "name": "ipython",
    "version": 3
   },
   "file_extension": ".py",
   "mimetype": "text/x-python",
   "name": "python",
   "nbconvert_exporter": "python",
   "pygments_lexer": "ipython3",
   "version": "3.8.3"
  }
 },
 "nbformat": 4,
 "nbformat_minor": 4
}
