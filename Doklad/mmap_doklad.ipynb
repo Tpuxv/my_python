{
 "cells": [
  {
   "cell_type": "markdown",
   "metadata": {},
   "source": [
    "# mmap : Файлы, отображаемые в памяти"
   ]
  },
  {
   "cell_type": "markdown",
   "metadata": {},
   "source": [
    "Отображение файлов в памяти обеспечивает прямой доступ к данным, хранящимся в файловой системе, .за счет использования виргуальной памяти операционной системы вместо обычных функций ввода-вывода.\n",
    "Такой подход позволяет улучшить производительность операций ввода-вывода, поскольку он не требует выполнения отдельных системных вызовов для каждой попытки доступа или копирования данных между буферами. Вместо этого как ядро, так и пользовательское приложение получают прямой доступ к памяти.\n",
    "\n",
    "В зависимости от конкретных задач файлы, отображаемые в памяти, могут рассматриваться как изменяемые строки или файловые объекты. Отображенный файл поддерживает ожидаемые методы файлового API, такие как close(), flush (), read (), readline (), seek (), tell () и write (). Он также поддерживает строковый API, предоставляющий такие средства, как взятие срезов и методы наподобие find ().\n",
    "В примерах этого раздела используется текстовый файл lorem.txt,в котором содержится часть полного текста Lorem Ipsum."
   ]
  },
  {
   "cell_type": "markdown",
   "metadata": {},
   "source": [
    "# lorem.txt"
   ]
  },
  {
   "cell_type": "markdown",
   "metadata": {},
   "source": [
    "Lorem ipsum dolor sit amet, consectetuer adipiscing elit.\n",
    "Donec egestas, enim et consectetuer ullamcorper, lectus ligula\n",
    "rutrum leo, а elementum elit tortor eu quam. Duis tincidunt nisi ut\n",
    "ante. Nulla facilisi. Sed tristique eros eu libero. Pellentesque vel\n",
    "arcu. Vivamus purus orci, iaculis ас, suscipit sit amet, pulvinar eu,\n",
    "lacus. Praesent placerat tortor sed nisl. Nunc blandit diam egestas\n",
    "dui. Pellentesque habitant morbi tristique senectus et netus et\n",
    "malesuada fames ас turpis egestas. Aliquam viverra fringilla\n",
    "leo. Nulla feugiat augue eleifend nulla. Vivamus mauris. Vivamus sed\n",
    "mauris in nibh placerat egestas. Suspendisse potenti. Mauris\n",
    "massa. Ut eget velit auctor tortor blandit sollicitudin. Suspendisse\n",
    "imperdiet justo."
   ]
  },
  {
   "cell_type": "markdown",
   "metadata": {},
   "source": [
    "# Чтение"
   ]
  },
  {
   "cell_type": "markdown",
   "metadata": {},
   "source": [
    "Для создания файлов в памяти предназначена функция mmap (). Ее первым аргументом является дескриптор файла, получаемый c помощью метода fileno () объекта файла или функции os. open (). Ответственность за открытие файла перед вызовом функции mmap () и его закрытие, когда необходимость в нем отпадает, возлагается на вызывающий код.\n",
    "\n",
    "Второй аргумент функции mmap () — размер в байтах той части файла, которая подлежит отображению. Если он равен 0, то отображается весь файл. Если он превышает текущий размер файла, то файл расширяется. \n",
    "(Windows не поддерживает создание отображений нулевой длины)"
   ]
  },
  {
   "cell_type": "markdown",
   "metadata": {},
   "source": [
    "Необязательный именованный аргумент access поддерживается обеими платформами. Используйте константу ACCESS_READ для доступа только по чтению, константу ACCESS_WRITE — для доступа по сквозной записи (присваивание значе-\n",
    "ний отображению в памяти записывается непосредственно в файл) и константу ACCESS_COPY — для доступа c правами копирования по записи (присваивание значений отображению в памяти не записывается в файл)."
   ]
  },
  {
   "cell_type": "code",
   "execution_count": 1,
   "metadata": {},
   "outputs": [
    {
     "name": "stdout",
     "output_type": "stream",
     "text": [
      "First 10 bytes via read : b'Lorem ipsu'\n",
      "First 10 bytes via slice: b'Lorem ipsu'\n",
      "2nd 10 bytes via read: b'm dolor si'\n"
     ]
    }
   ],
   "source": [
    "import mmap\n",
    "\n",
    "with open('lorem.txt','r') as f:\n",
    "    with mmap.mmap(f.fileno(), 0,\n",
    "                   access=mmap.ACCESS_READ) as m:\n",
    "        print('First 10 bytes via read :', m.read(10))\n",
    "        print('First 10 bytes via slice:', m[:10])\n",
    "        print('2nd 10 bytes via read:', m.read(10))"
   ]
  },
  {
   "cell_type": "markdown",
   "metadata": {},
   "source": [
    "Указатель файла отслеживает последний байт, к которому осуществлялся доступ посредством операции среза. В данном примере указатель перемещается вперед на 10 байт после первого чтения. Затем он перемещается в начало файла посредством операции среза и вновь перемещается вперед на 10 байт по срезу.\n",
    "После выполнения операции среза повторный вызов метода read () возвращает\n",
    "байты 11-20 файла."
   ]
  },
  {
   "cell_type": "markdown",
   "metadata": {},
   "source": [
    "# Запись"
   ]
  },
  {
   "cell_type": "markdown",
   "metadata": {},
   "source": [
    "Указатель файла отслеживает последний байт, к которому осуществлялся доступ посредством операции среза. В данном примере указатель перемещается вперед на 10 байт после первого чтения. Затем он перемещается в начало файла посредством операции среза и вновь перемещается вперед на 10 байт по срезу.\n",
    "После выполнения операции среза повторный вызов метода read () возвращает\n",
    "байты 11-20 файла."
   ]
  },
  {
   "cell_type": "code",
   "execution_count": 4,
   "metadata": {},
   "outputs": [
    {
     "name": "stdout",
     "output_type": "stream",
     "text": [
      "Looking for: b'consectetuer'\n",
      "Replacing with: b'reutetcesnoc'\n",
      "Before:\n",
      "b'Lorem ipsum dolor sit amet, consectetuer adipiscing elit.'\n",
      "After :\n",
      "b'Lorem ipsum dolor sit amet, reutetcesnoc adipiscing elit.'\n",
      "File :\n",
      "Lorem ipsum dolor sit amet, reutetcesnoc adipiscing elit.\n"
     ]
    }
   ],
   "source": [
    "import mmap\n",
    "import shutil\n",
    "\n",
    "#копирование файла\n",
    "shutil.copyfile('lorem.txt','lorem_copy.txt')\n",
    "\n",
    "word=b'consectetuer'\n",
    "reversed=word[::-1]\n",
    "print('Looking for:', word)\n",
    "print('Replacing with:', reversed)\n",
    "\n",
    "with open ('lorem_copy.txt','r+') as f:\n",
    "    with mmap.mmap(f.fileno(),0) as m:\n",
    "        print('Before:\\n{}'.format(m.readline().rstrip()))\n",
    "        m.seek(0) # Переход в начало\n",
    "        \n",
    "        loc = m.find(word)\n",
    "        m[loc:loc+len(word)]=reversed\n",
    "        m.flush()\n",
    "        \n",
    "        m.seek(0)\n",
    "        print('After :\\n{}'.format(m.readline().rstrip()))\n",
    "        \n",
    "        f.seek(0)\n",
    "        print('File :\\n{}'.format(f.readline().rstrip()))"
   ]
  },
  {
   "cell_type": "markdown",
   "metadata": {},
   "source": [
    "# Режим копирования"
   ]
  },
  {
   "cell_type": "markdown",
   "metadata": {},
   "source": [
    "В режиме доступа ACCESS_COPY изменения не записываются в файл на диске."
   ]
  },
  {
   "cell_type": "code",
   "execution_count": 9,
   "metadata": {},
   "outputs": [
    {
     "name": "stdout",
     "output_type": "stream",
     "text": [
      "Memory Before:\n",
      "b'Lorem ipsum dolor sit amet, consectetuer adipiscing elit.'\n",
      "File Before:\n",
      "Lorem ipsum dolor sit amet, consectetuer adipiscing elit.\n",
      "\n",
      "Memory After :\n",
      "b'Lorem ipsum dolor sit amet, reutetcesnoc adipiscing elit.'\n",
      "File After:\n",
      "Lorem ipsum dolor sit amet, consectetuer adipiscing elit.\n"
     ]
    }
   ],
   "source": [
    "import mmap\n",
    "import shutil\n",
    "\n",
    "shutil.copyfile('lorem.txt','lorem_copy.txt')\n",
    "\n",
    "word=b'consectetuer'\n",
    "reversed=word[::-1]\n",
    "\n",
    "with open('lorem_copy.txt','r') as f:\n",
    "    with mmap.mmap(f.fileno(), 0,\n",
    "                   access=mmap.ACCESS_COPY) as m:\n",
    "        print('Memory Before:\\n{}'.format(\n",
    "            m.readline().rstrip()))\n",
    "        print('File Before:\\n{}\\n'.format(\n",
    "            f.readline().rstrip()))\n",
    "        \n",
    "        m.seek(0)\n",
    "        loc=m.find(word)\n",
    "        m[loc:loc + len(word)] = reversed\n",
    "        \n",
    "        m.seek(0)\n",
    "        print('Memory After :\\n{}'.format(\n",
    "            m.readline().rstrip()))\n",
    "        f.seek(0)\n",
    "        print('File After:\\n{}'.format(\n",
    "            f.readline().strip()))"
   ]
  },
  {
   "cell_type": "markdown",
   "metadata": {},
   "source": [
    "# Регулярные выражения"
   ]
  },
  {
   "cell_type": "markdown",
   "metadata": {},
   "source": [
    "Поскольку файлы в памяти могут работать подобно строкам, их можно использовать совместно c другими модулями, оперирующими строками, такими как модуль регулярных выражений. В следующем примере выполняется поиск всех предложений, в которых содержится слово “nulla”."
   ]
  },
  {
   "cell_type": "code",
   "execution_count": 10,
   "metadata": {},
   "outputs": [
    {
     "name": "stdout",
     "output_type": "stream",
     "text": [
      "b'Nulla facilisi.'\n",
      "b'Nulla feugiat augue eleifend nulla.'\n"
     ]
    }
   ],
   "source": [
    "import mmap\n",
    "import re\n",
    "\n",
    "pattern = re.compile(rb'(\\.\\W+)?([^.]?nulla[^.]*?\\.)',\n",
    "                     re.DOTALL | re.IGNORECASE | re.MULTILINE)\n",
    "\n",
    "with open('lorem.txt','r') as f:\n",
    "    with mmap.mmap(f.fileno(), 0,\n",
    "                   access=mmap.ACCESS_READ) as m:\n",
    "        for match in pattern.findall(m):\n",
    "            print(match[1].replace(b'\\n',b' '))"
   ]
  },
  {
   "cell_type": "markdown",
   "metadata": {},
   "source": [
    "Поскольку шаблон включает две группы, значение, возвращаемое методом\n",
    "findall(), представляет собой последовательность кортежей. Инструкция\n",
    "print извлекает предложение, удовлетворяющее условиям поиска, и заменяет символы перевода строки пробелами, чтобы каждый результат выводился в одной строке."
   ]
  },
  {
   "cell_type": "markdown",
   "metadata": {},
   "source": [
    "# Задание"
   ]
  },
  {
   "cell_type": "markdown",
   "metadata": {},
   "source": [
    "Заменить имя 'Лада' в рассказе М.М. Пришвина на его реверсированную версию."
   ]
  },
  {
   "cell_type": "markdown",
   "metadata": {},
   "source": [
    "Лада заболела. Чашка с молоком стояла возле ее носа, она отвертывалась.\n",
    "\n",
    "Позвали меня.\n",
    "\n",
    "- Лада, - сказал я, - надо поесть.\n",
    "\n",
    "Она подняла голову и забила прутом. Я погладил ее. От ласки жизнь заиграла в ее глазах.\n",
    "\n",
    "- Кушай, Лада, - повторил я и подвинул блюдце поближе.\n",
    "\n",
    "Она протянула нос к молоку и залакала.\n",
    "\n",
    "Значит, через мою ласку ей силы прибавилось. Может быть, именно эти несколько глотков молока спасли ее жизнь."
   ]
  }
 ],
 "metadata": {
  "kernelspec": {
   "display_name": "Python 3",
   "language": "python",
   "name": "python3"
  },
  "language_info": {
   "codemirror_mode": {
    "name": "ipython",
    "version": 3
   },
   "file_extension": ".py",
   "mimetype": "text/x-python",
   "name": "python",
   "nbconvert_exporter": "python",
   "pygments_lexer": "ipython3",
   "version": "3.8.3"
  }
 },
 "nbformat": 4,
 "nbformat_minor": 4
}
